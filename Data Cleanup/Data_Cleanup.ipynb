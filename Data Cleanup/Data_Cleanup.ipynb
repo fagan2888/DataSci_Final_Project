{
 "cells": [
  {
   "cell_type": "code",
   "execution_count": 1,
   "metadata": {
    "collapsed": true
   },
   "outputs": [],
   "source": [
    "import pandas as pd"
   ]
  },
  {
   "cell_type": "code",
   "execution_count": 8,
   "metadata": {
    "collapsed": false
   },
   "outputs": [
    {
     "name": "stdout",
     "output_type": "stream",
     "text": [
      "math class data points: 395\n",
      "portuguese class data points: 649\n",
      "total data points: 1044\n"
     ]
    }
   ],
   "source": [
    "mathclass = pd.read_csv(\"student-mat.csv\",delimiter=\";\") #math course csv\n",
    "portclass = pd.read_csv(\"student-por.csv\",delimiter=\";\") #portuguese language course csv\n",
    "\n",
    "print('math class data points: {}'.format(len(mathclass)))\n",
    "print('portuguese class data points: {}'.format(len(portclass)))\n",
    "print('total data points: {}'.format(len(mathclass)+len(portclass)))"
   ]
  },
  {
   "cell_type": "code",
   "execution_count": 4,
   "metadata": {
    "collapsed": true
   },
   "outputs": [],
   "source": [
    "#clean up data\n",
    "mathclass['school_num'] = mathclass['school'].map({'GP':0, 'MS':1})\n",
    "mathclass['sex_num'] = mathclass['sex'].map({'F':0, 'M':1})\n",
    "mathclass['address_num'] = mathclass['address'].map({'U':0, 'R':1})\n",
    "mathclass['famsize_num'] = mathclass['famsize'].map({'LE3':0, 'GT3':1})\n",
    "mathclass['Pstatus_num'] = mathclass['Pstatus'].map({'T':0, 'A':1})\n",
    "mathclass['Mjob_num'] = mathclass['Mjob'].map({'teacher':0, 'health':1, 'services':2, 'at_home':3, 'other':4})\n",
    "mathclass['Fjob_num'] = mathclass['Fjob'].map({'teacher':0, 'health':1, 'services':2, 'at_home':3, 'other':4})\n",
    "mathclass['reason_num'] = mathclass['reason'].map({'home':0, 'reputation':1, 'course':2, 'other':3})\n",
    "mathclass['guardian_num'] = mathclass['guardian'].map({'mother':0, 'father':1, 'other':2})\n",
    "mathclass['schoolsup_num'] = mathclass['schoolsup'].map({'yes':0, 'no':1})\n",
    "mathclass['famsup_num'] = mathclass['famsup'].map({'yes':0, 'no':1})\n",
    "mathclass['paid_num'] = mathclass['paid'].map({'yes':0, 'no':1})\n",
    "mathclass['activities_num'] = mathclass['activities'].map({'yes':0, 'no':1})\n",
    "mathclass['nursery_num'] = mathclass['nursery'].map({'yes':0, 'no':1})\n",
    "mathclass['higher_num'] = mathclass['higher'].map({'yes':0, 'no':1})\n",
    "mathclass['internet_num'] = mathclass['internet'].map({'yes':0, 'no':1})\n",
    "mathclass['romantic_num'] = mathclass['romantic'].map({'yes':0, 'no':1})\n",
    "\n",
    "portclass['school_num'] = portclass['school'].map({'GP':0, 'MS':1})\n",
    "portclass['sex_num'] = portclass['sex'].map({'F':0, 'M':1})\n",
    "portclass['address_num'] = portclass['address'].map({'U':0, 'R':1})\n",
    "portclass['famsize_num'] = portclass['famsize'].map({'LE3':0, 'GT3':1})\n",
    "portclass['Pstatus_num'] = portclass['Pstatus'].map({'T':0, 'A':1})\n",
    "portclass['Mjob_num'] = portclass['Mjob'].map({'teacher':0, 'health':1, 'services':2, 'at_home':3, 'other':4})\n",
    "portclass['Fjob_num'] = portclass['Fjob'].map({'teacher':0, 'health':1, 'services':2, 'at_home':3, 'other':4})\n",
    "portclass['reason_num'] = portclass['reason'].map({'home':0, 'reputation':1, 'course':2, 'other':3})\n",
    "portclass['guardian_num'] = portclass['guardian'].map({'mother':0, 'father':1, 'other':2})\n",
    "portclass['schoolsup_num'] = portclass['schoolsup'].map({'yes':0, 'no':1})\n",
    "portclass['famsup_num'] = portclass['famsup'].map({'yes':0, 'no':1})\n",
    "portclass['paid_num'] = portclass['paid'].map({'yes':0, 'no':1})\n",
    "portclass['activities_num'] = portclass['activities'].map({'yes':0, 'no':1})\n",
    "portclass['nursery_num'] = portclass['nursery'].map({'yes':0, 'no':1})\n",
    "portclass['higher_num'] = portclass['higher'].map({'yes':0, 'no':1})\n",
    "portclass['internet_num'] = portclass['internet'].map({'yes':0, 'no':1})\n",
    "portclass['romantic_num'] = portclass['romantic'].map({'yes':0, 'no':1})"
   ]
  },
  {
   "cell_type": "code",
   "execution_count": 13,
   "metadata": {
    "collapsed": false
   },
   "outputs": [
    {
     "name": "stdout",
     "output_type": "stream",
     "text": [
      "number of duplicates: 382\n",
      "length of concatenated datasets from both classes: 1044\n",
      "length of dataset after duplicates removed: 662\n"
     ]
    }
   ],
   "source": [
    "#find duplicates that are in both math and portuguese class datasets\n",
    "duplicates = pd.merge(portclass, mathclass, how='inner', on=['school','sex','age','address','famsize','Pstatus','Medu','Fedu','Mjob','Fjob','reason','nursery','internet'])\n",
    "print('number of duplicates: {}'.format(len(duplicates)))\n",
    "\n",
    "#merge 2 datasets into single dataframe\n",
    "bothclass = pd.concat([portclass, mathclass])\n",
    "print('length of concatenated datasets from both classes: {}'.format(len(bothclass)))\n",
    "bothclass = bothclass.drop_duplicates(keep='first', subset=['school','sex','age','address','famsize','Pstatus','Medu','Fedu','Mjob','Fjob','reason','nursery','internet'])\n",
    "bothclass = bothclass.reset_index(drop=True)\n",
    "print('length of dataset after duplicates removed: {}'.format(len(bothclass)))"
   ]
  }
 ],
 "metadata": {
  "kernelspec": {
   "display_name": "Python [Root]",
   "language": "python",
   "name": "Python [Root]"
  },
  "language_info": {
   "codemirror_mode": {
    "name": "ipython",
    "version": 3
   },
   "file_extension": ".py",
   "mimetype": "text/x-python",
   "name": "python",
   "nbconvert_exporter": "python",
   "pygments_lexer": "ipython3",
   "version": "3.5.2"
  }
 },
 "nbformat": 4,
 "nbformat_minor": 0
}
