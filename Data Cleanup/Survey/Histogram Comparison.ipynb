{
 "cells": [
  {
   "cell_type": "markdown",
   "metadata": {},
   "source": [
    "# Histogram Comparison Visualization\n",
    "Compare the data from the survey and the original data. Only contains histograms"
   ]
  },
  {
   "cell_type": "code",
   "execution_count": 1,
   "metadata": {
    "collapsed": false
   },
   "outputs": [
    {
     "data": {
      "text/html": [
       "<div>\n",
       "<table border=\"1\" class=\"dataframe\">\n",
       "  <thead>\n",
       "    <tr style=\"text-align: right;\">\n",
       "      <th></th>\n",
       "      <th>school</th>\n",
       "      <th>sex</th>\n",
       "      <th>age</th>\n",
       "      <th>address</th>\n",
       "      <th>famsize</th>\n",
       "      <th>Pstatus</th>\n",
       "      <th>Medu</th>\n",
       "      <th>Fedu</th>\n",
       "      <th>Mjob</th>\n",
       "      <th>Fjob</th>\n",
       "      <th>...</th>\n",
       "      <th>higher_num</th>\n",
       "      <th>internet_num</th>\n",
       "      <th>romantic_num</th>\n",
       "      <th>paid_port_num</th>\n",
       "      <th>paid_math_num</th>\n",
       "      <th>paid_num</th>\n",
       "      <th>absences</th>\n",
       "      <th>G1</th>\n",
       "      <th>G2</th>\n",
       "      <th>G3</th>\n",
       "    </tr>\n",
       "  </thead>\n",
       "  <tbody>\n",
       "    <tr>\n",
       "      <th>0</th>\n",
       "      <td>GP</td>\n",
       "      <td>F</td>\n",
       "      <td>18.0</td>\n",
       "      <td>U</td>\n",
       "      <td>GT3</td>\n",
       "      <td>A</td>\n",
       "      <td>4.0</td>\n",
       "      <td>4.0</td>\n",
       "      <td>at_home</td>\n",
       "      <td>teacher</td>\n",
       "      <td>...</td>\n",
       "      <td>0</td>\n",
       "      <td>1</td>\n",
       "      <td>1</td>\n",
       "      <td>1.0</td>\n",
       "      <td>1.0</td>\n",
       "      <td>1</td>\n",
       "      <td>5.0</td>\n",
       "      <td>2.5</td>\n",
       "      <td>8.5</td>\n",
       "      <td>8.5</td>\n",
       "    </tr>\n",
       "    <tr>\n",
       "      <th>1</th>\n",
       "      <td>GP</td>\n",
       "      <td>F</td>\n",
       "      <td>17.0</td>\n",
       "      <td>U</td>\n",
       "      <td>GT3</td>\n",
       "      <td>T</td>\n",
       "      <td>1.0</td>\n",
       "      <td>1.0</td>\n",
       "      <td>at_home</td>\n",
       "      <td>other</td>\n",
       "      <td>...</td>\n",
       "      <td>0</td>\n",
       "      <td>0</td>\n",
       "      <td>1</td>\n",
       "      <td>1.0</td>\n",
       "      <td>1.0</td>\n",
       "      <td>1</td>\n",
       "      <td>3.0</td>\n",
       "      <td>7.0</td>\n",
       "      <td>8.0</td>\n",
       "      <td>8.5</td>\n",
       "    </tr>\n",
       "    <tr>\n",
       "      <th>2</th>\n",
       "      <td>GP</td>\n",
       "      <td>F</td>\n",
       "      <td>15.0</td>\n",
       "      <td>U</td>\n",
       "      <td>LE3</td>\n",
       "      <td>T</td>\n",
       "      <td>1.0</td>\n",
       "      <td>1.0</td>\n",
       "      <td>at_home</td>\n",
       "      <td>other</td>\n",
       "      <td>...</td>\n",
       "      <td>0</td>\n",
       "      <td>0</td>\n",
       "      <td>1</td>\n",
       "      <td>1.0</td>\n",
       "      <td>0.0</td>\n",
       "      <td>1</td>\n",
       "      <td>3.0</td>\n",
       "      <td>6.0</td>\n",
       "      <td>6.5</td>\n",
       "      <td>6.0</td>\n",
       "    </tr>\n",
       "    <tr>\n",
       "      <th>3</th>\n",
       "      <td>GP</td>\n",
       "      <td>F</td>\n",
       "      <td>15.0</td>\n",
       "      <td>U</td>\n",
       "      <td>GT3</td>\n",
       "      <td>T</td>\n",
       "      <td>4.0</td>\n",
       "      <td>2.0</td>\n",
       "      <td>health</td>\n",
       "      <td>services</td>\n",
       "      <td>...</td>\n",
       "      <td>0</td>\n",
       "      <td>0</td>\n",
       "      <td>0</td>\n",
       "      <td>1.0</td>\n",
       "      <td>0.0</td>\n",
       "      <td>1</td>\n",
       "      <td>1.0</td>\n",
       "      <td>14.5</td>\n",
       "      <td>14.0</td>\n",
       "      <td>14.5</td>\n",
       "    </tr>\n",
       "    <tr>\n",
       "      <th>4</th>\n",
       "      <td>GP</td>\n",
       "      <td>F</td>\n",
       "      <td>16.0</td>\n",
       "      <td>U</td>\n",
       "      <td>GT3</td>\n",
       "      <td>T</td>\n",
       "      <td>3.0</td>\n",
       "      <td>3.0</td>\n",
       "      <td>other</td>\n",
       "      <td>other</td>\n",
       "      <td>...</td>\n",
       "      <td>0</td>\n",
       "      <td>1</td>\n",
       "      <td>1</td>\n",
       "      <td>1.0</td>\n",
       "      <td>0.0</td>\n",
       "      <td>1</td>\n",
       "      <td>2.0</td>\n",
       "      <td>8.5</td>\n",
       "      <td>11.5</td>\n",
       "      <td>11.5</td>\n",
       "    </tr>\n",
       "  </tbody>\n",
       "</table>\n",
       "<p>5 rows × 63 columns</p>\n",
       "</div>"
      ],
      "text/plain": [
       "  school sex   age address famsize Pstatus  Medu  Fedu     Mjob      Fjob  \\\n",
       "0     GP   F  18.0       U     GT3       A   4.0   4.0  at_home   teacher   \n",
       "1     GP   F  17.0       U     GT3       T   1.0   1.0  at_home     other   \n",
       "2     GP   F  15.0       U     LE3       T   1.0   1.0  at_home     other   \n",
       "3     GP   F  15.0       U     GT3       T   4.0   2.0   health  services   \n",
       "4     GP   F  16.0       U     GT3       T   3.0   3.0    other     other   \n",
       "\n",
       "   ...  higher_num internet_num  romantic_num  paid_port_num  paid_math_num  \\\n",
       "0  ...           0            1             1            1.0            1.0   \n",
       "1  ...           0            0             1            1.0            1.0   \n",
       "2  ...           0            0             1            1.0            0.0   \n",
       "3  ...           0            0             0            1.0            0.0   \n",
       "4  ...           0            1             1            1.0            0.0   \n",
       "\n",
       "  paid_num absences    G1    G2    G3  \n",
       "0        1      5.0   2.5   8.5   8.5  \n",
       "1        1      3.0   7.0   8.0   8.5  \n",
       "2        1      3.0   6.0   6.5   6.0  \n",
       "3        1      1.0  14.5  14.0  14.5  \n",
       "4        1      2.0   8.5  11.5  11.5  \n",
       "\n",
       "[5 rows x 63 columns]"
      ]
     },
     "execution_count": 1,
     "metadata": {},
     "output_type": "execute_result"
    }
   ],
   "source": [
    "import numpy as np\n",
    "import pandas as pd\n",
    "import matplotlib.pyplot as plt\n",
    "import seaborn as sns\n",
    "\n",
    "%matplotlib inline\n",
    "plt.rcParams['figure.figsize'] = (11, 7)\n",
    "plt.style.use('ggplot')\n",
    "\n",
    "cleanData = pd.read_csv(\"CleanData.csv\")\n",
    "cleanData = cleanData.drop(\"Unnamed: 0\", 1)\n",
    "cleanData.head()"
   ]
  },
  {
   "cell_type": "code",
   "execution_count": 2,
   "metadata": {
    "collapsed": false
   },
   "outputs": [
    {
     "data": {
      "text/html": [
       "<div>\n",
       "<table border=\"1\" class=\"dataframe\">\n",
       "  <thead>\n",
       "    <tr style=\"text-align: right;\">\n",
       "      <th></th>\n",
       "      <th>Timestamp</th>\n",
       "      <th>Are you a student at the University of Utah?</th>\n",
       "      <th>What is your gender?</th>\n",
       "      <th>age</th>\n",
       "      <th>What area do you live in?</th>\n",
       "      <th>How large is the family you live with?</th>\n",
       "      <th>Why did you choose the University of Utah?</th>\n",
       "      <th>What is your home to school commute time?</th>\n",
       "      <th>How many hours do you study a week for all of your classes?</th>\n",
       "      <th>How many classes have you failed in the past during your time at the University of Utah?</th>\n",
       "      <th>...</th>\n",
       "      <th>famsup_num</th>\n",
       "      <th>internet_num</th>\n",
       "      <th>romantic_num</th>\n",
       "      <th>freetime</th>\n",
       "      <th>Dalc</th>\n",
       "      <th>Walc</th>\n",
       "      <th>health</th>\n",
       "      <th>religious</th>\n",
       "      <th>schoolsup_num</th>\n",
       "      <th>paid_num</th>\n",
       "    </tr>\n",
       "  </thead>\n",
       "  <tbody>\n",
       "    <tr>\n",
       "      <th>0</th>\n",
       "      <td>11/27/2016 14:27:50</td>\n",
       "      <td>Yes</td>\n",
       "      <td>Female</td>\n",
       "      <td>21.0</td>\n",
       "      <td>Urban</td>\n",
       "      <td>Greater than three</td>\n",
       "      <td>Program Preference</td>\n",
       "      <td>30 min to 1 hour</td>\n",
       "      <td>Greater than 10 hours</td>\n",
       "      <td>0</td>\n",
       "      <td>...</td>\n",
       "      <td>1</td>\n",
       "      <td>0</td>\n",
       "      <td>0</td>\n",
       "      <td>2</td>\n",
       "      <td>1</td>\n",
       "      <td>2</td>\n",
       "      <td>4.0</td>\n",
       "      <td>0</td>\n",
       "      <td>1</td>\n",
       "      <td>1</td>\n",
       "    </tr>\n",
       "    <tr>\n",
       "      <th>1</th>\n",
       "      <td>11/27/2016 14:59:32</td>\n",
       "      <td>Yes</td>\n",
       "      <td>Male</td>\n",
       "      <td>23.0</td>\n",
       "      <td>Urban</td>\n",
       "      <td>Less than or equal to three</td>\n",
       "      <td>Program Preference</td>\n",
       "      <td>15 min to 30 min</td>\n",
       "      <td>5 to 10 hours</td>\n",
       "      <td>1</td>\n",
       "      <td>...</td>\n",
       "      <td>1</td>\n",
       "      <td>0</td>\n",
       "      <td>1</td>\n",
       "      <td>4</td>\n",
       "      <td>1</td>\n",
       "      <td>1</td>\n",
       "      <td>4.0</td>\n",
       "      <td>1</td>\n",
       "      <td>1</td>\n",
       "      <td>1</td>\n",
       "    </tr>\n",
       "    <tr>\n",
       "      <th>2</th>\n",
       "      <td>11/27/2016 14:59:35</td>\n",
       "      <td>Yes</td>\n",
       "      <td>Male</td>\n",
       "      <td>25.0</td>\n",
       "      <td>Rural</td>\n",
       "      <td>Do not live with family</td>\n",
       "      <td>Program Preference</td>\n",
       "      <td>Less than 15 min</td>\n",
       "      <td>Greater than 10 hours</td>\n",
       "      <td>0</td>\n",
       "      <td>...</td>\n",
       "      <td>1</td>\n",
       "      <td>0</td>\n",
       "      <td>1</td>\n",
       "      <td>1</td>\n",
       "      <td>1</td>\n",
       "      <td>1</td>\n",
       "      <td>4.0</td>\n",
       "      <td>0</td>\n",
       "      <td>1</td>\n",
       "      <td>1</td>\n",
       "    </tr>\n",
       "    <tr>\n",
       "      <th>3</th>\n",
       "      <td>11/27/2016 14:59:41</td>\n",
       "      <td>Yes</td>\n",
       "      <td>Male</td>\n",
       "      <td>21.0</td>\n",
       "      <td>Suburban</td>\n",
       "      <td>Greater than three</td>\n",
       "      <td>Other</td>\n",
       "      <td>15 min to 30 min</td>\n",
       "      <td>Greater than 10 hours</td>\n",
       "      <td>0</td>\n",
       "      <td>...</td>\n",
       "      <td>1</td>\n",
       "      <td>0</td>\n",
       "      <td>1</td>\n",
       "      <td>4</td>\n",
       "      <td>1</td>\n",
       "      <td>2</td>\n",
       "      <td>5.0</td>\n",
       "      <td>1</td>\n",
       "      <td>1</td>\n",
       "      <td>1</td>\n",
       "    </tr>\n",
       "    <tr>\n",
       "      <th>4</th>\n",
       "      <td>11/27/2016 15:00:38</td>\n",
       "      <td>Yes</td>\n",
       "      <td>Male</td>\n",
       "      <td>25.0</td>\n",
       "      <td>Urban</td>\n",
       "      <td>Less than or equal to three</td>\n",
       "      <td>Program Preference</td>\n",
       "      <td>Less than 15 min</td>\n",
       "      <td>2 to 5 hours</td>\n",
       "      <td>0</td>\n",
       "      <td>...</td>\n",
       "      <td>1</td>\n",
       "      <td>0</td>\n",
       "      <td>0</td>\n",
       "      <td>3</td>\n",
       "      <td>1</td>\n",
       "      <td>1</td>\n",
       "      <td>4.0</td>\n",
       "      <td>0</td>\n",
       "      <td>1</td>\n",
       "      <td>1</td>\n",
       "    </tr>\n",
       "  </tbody>\n",
       "</table>\n",
       "<p>5 rows × 38 columns</p>\n",
       "</div>"
      ],
      "text/plain": [
       "             Timestamp Are you a student at the University of Utah?  \\\n",
       "0  11/27/2016 14:27:50                                          Yes   \n",
       "1  11/27/2016 14:59:32                                          Yes   \n",
       "2  11/27/2016 14:59:35                                          Yes   \n",
       "3  11/27/2016 14:59:41                                          Yes   \n",
       "4  11/27/2016 15:00:38                                          Yes   \n",
       "\n",
       "  What is your gender?   age What area do you live in?  \\\n",
       "0               Female  21.0                     Urban   \n",
       "1                 Male  23.0                     Urban   \n",
       "2                 Male  25.0                     Rural   \n",
       "3                 Male  21.0                  Suburban   \n",
       "4                 Male  25.0                     Urban   \n",
       "\n",
       "  How large is the family you live with?  \\\n",
       "0                     Greater than three   \n",
       "1            Less than or equal to three   \n",
       "2                Do not live with family   \n",
       "3                     Greater than three   \n",
       "4            Less than or equal to three   \n",
       "\n",
       "  Why did you choose the University of Utah?  \\\n",
       "0                         Program Preference   \n",
       "1                         Program Preference   \n",
       "2                         Program Preference   \n",
       "3                                      Other   \n",
       "4                         Program Preference   \n",
       "\n",
       "  What is your home to school commute time?  \\\n",
       "0                          30 min to 1 hour   \n",
       "1                          15 min to 30 min   \n",
       "2                          Less than 15 min   \n",
       "3                          15 min to 30 min   \n",
       "4                          Less than 15 min   \n",
       "\n",
       "  How many hours do you study a week for all of your classes?  \\\n",
       "0                              Greater than 10 hours            \n",
       "1                                      5 to 10 hours            \n",
       "2                              Greater than 10 hours            \n",
       "3                              Greater than 10 hours            \n",
       "4                                       2 to 5 hours            \n",
       "\n",
       "  How many classes have you failed in the past during your time at the University of Utah?  \\\n",
       "0                                                  0                                         \n",
       "1                                                  1                                         \n",
       "2                                                  0                                         \n",
       "3                                                  0                                         \n",
       "4                                                  0                                         \n",
       "\n",
       "    ...    famsup_num internet_num romantic_num freetime Dalc Walc health  \\\n",
       "0   ...             1            0            0        2    1    2    4.0   \n",
       "1   ...             1            0            1        4    1    1    4.0   \n",
       "2   ...             1            0            1        1    1    1    4.0   \n",
       "3   ...             1            0            1        4    1    2    5.0   \n",
       "4   ...             1            0            0        3    1    1    4.0   \n",
       "\n",
       "  religious schoolsup_num paid_num  \n",
       "0         0             1        1  \n",
       "1         1             1        1  \n",
       "2         0             1        1  \n",
       "3         1             1        1  \n",
       "4         0             1        1  \n",
       "\n",
       "[5 rows x 38 columns]"
      ]
     },
     "execution_count": 2,
     "metadata": {},
     "output_type": "execute_result"
    }
   ],
   "source": [
    "surveyData = pd.read_csv(\"SurveyData.csv\")\n",
    "surveyData = surveyData.drop(\"Unnamed: 0\", 1)\n",
    "surveyData.head()"
   ]
  },
  {
   "cell_type": "code",
   "execution_count": 3,
   "metadata": {
    "collapsed": true
   },
   "outputs": [],
   "source": [
    "def normalizedValueCounts(ser):\n",
    "    x = ser.value_counts(normalize=True)\n",
    "    rdx = [int(i) for i in x.index.values]\n",
    "    x = x.reindex(rdx)\n",
    "    return x"
   ]
  },
  {
   "cell_type": "markdown",
   "metadata": {},
   "source": [
    "## Age"
   ]
  },
  {
   "cell_type": "code",
   "execution_count": 4,
   "metadata": {
    "collapsed": false
   },
   "outputs": [
    {
     "data": {
      "text/plain": [
       "<matplotlib.text.Text at 0x24f3ab14b00>"
      ]
     },
     "execution_count": 4,
     "metadata": {},
     "output_type": "execute_result"
    },
    {
     "data": {
      "image/png": "[encoded data removed]",
      "text/plain": [
       "<matplotlib.figure.Figure at 0x24f3613beb8>"
      ]
     },
     "metadata": {},
     "output_type": "display_data"
    }
   ],
   "source": [
    "ages = list(range(15,31))\n",
    "cleanCounts = normalizedValueCounts(cleanData[\"age\"])\n",
    "surveyCounts = normalizedValueCounts(surveyData[\"age\"])\n",
    "clean = [None for i in range(len(ages))]\n",
    "survey = [None for i in range(len(ages))]\n",
    "\n",
    "for idx, age in enumerate(ages):\n",
    "    try:\n",
    "        cc = cleanCounts.loc[age]\n",
    "    except KeyError:\n",
    "        cc = 0\n",
    "    clean[idx] = cc\n",
    "    \n",
    "    try:\n",
    "        sc = surveyCounts.loc[age]\n",
    "    except KeyError:\n",
    "        sc = 0\n",
    "    survey[idx] = sc\n",
    "\n",
    "over30 = surveyCounts.index.values[surveyCounts.index.values > 30]\n",
    "survey[-1] = surveyCounts.loc[over30].sum()\n",
    "d = {'Portugal':clean,\n",
    "     'UofU':survey}\n",
    "ages[-1] = '30+'\n",
    "df = pd.DataFrame(d, index=ages)\n",
    "ax = df.plot.bar(title='Age Distribution')\n",
    "ax.set_xlabel('Ages')\n",
    "ax.set_ylabel('Population Proportion')"
   ]
  },
  {
   "cell_type": "markdown",
   "metadata": {},
   "source": [
    "## Failed Classes"
   ]
  },
  {
   "cell_type": "code",
   "execution_count": 5,
   "metadata": {
    "collapsed": false
   },
   "outputs": [
    {
     "data": {
      "text/plain": [
       "<matplotlib.text.Text at 0x24f3b4facc0>"
      ]
     },
     "execution_count": 5,
     "metadata": {},
     "output_type": "execute_result"
    },
    {
     "data": {
      "image/png": "[encoded data removed]",
      "text/plain": [
       "<matplotlib.figure.Figure at 0x24f3a9aa8d0>"
      ]
     },
     "metadata": {},
     "output_type": "display_data"
    }
   ],
   "source": [
    "failures = list(range(5))\n",
    "cleanCounts = normalizedValueCounts(cleanData[\"failures\"])\n",
    "surveyCounts = normalizedValueCounts(surveyData[\"failures\"])\n",
    "clean = [None for i in range(len(failures))]\n",
    "survey = [None for i in range(len(failures))]\n",
    "\n",
    "for idx, fail in enumerate(failures):\n",
    "    try:\n",
    "        cc = cleanCounts.loc[fail]\n",
    "    except KeyError:\n",
    "        cc = 0\n",
    "    clean[idx] = cc\n",
    "    \n",
    "    try:\n",
    "        sc = surveyCounts.loc[fail]\n",
    "    except KeyError:\n",
    "        sc = 0\n",
    "    survey[idx] = sc\n",
    "    \n",
    "d = {'Portugal':clean,\n",
    "     'UofU':survey}\n",
    "df = pd.DataFrame(d, index=failures)\n",
    "ax = df.plot.bar(title='Class Failure Distribution')\n",
    "ax.set_xlabel('Number of Classes Failed')\n",
    "ax.set_ylabel('Population Proportion')"
   ]
  },
  {
   "cell_type": "markdown",
   "metadata": {},
   "source": [
    "## Free Time"
   ]
  },
  {
   "cell_type": "code",
   "execution_count": 6,
   "metadata": {
    "collapsed": false
   },
   "outputs": [
    {
     "data": {
      "text/plain": [
       "<matplotlib.text.Text at 0x24f3afd9cc0>"
      ]
     },
     "execution_count": 6,
     "metadata": {},
     "output_type": "execute_result"
    },
    {
     "data": {
      "image/png": "[encoded data removed]",
      "text/plain": [
       "<matplotlib.figure.Figure at 0x24f3ae01dd8>"
      ]
     },
     "metadata": {},
     "output_type": "display_data"
    }
   ],
   "source": [
    "freeTime = list(range(1,6))\n",
    "freeTimeText = [\"Very Low Amount\", \"Low Amount\", \"Some Amount\", \"High Amount\", \"Very High Amount\"]\n",
    "cleanCounts = normalizedValueCounts(cleanData[\"freetime\"])\n",
    "surveyCounts = normalizedValueCounts(surveyData[\"freetime\"])\n",
    "clean = [None for i in range(len(failures))]\n",
    "survey = [None for i in range(len(failures))]\n",
    "\n",
    "for idx, free in enumerate(freeTime):\n",
    "    try:\n",
    "        cc = cleanCounts.loc[free]\n",
    "    except KeyError:\n",
    "        cc = 0\n",
    "    clean[idx] = cc\n",
    "    \n",
    "    try:\n",
    "        sc = surveyCounts.loc[free]\n",
    "    except KeyError:\n",
    "        sc = 0\n",
    "    survey[idx] = sc\n",
    "    \n",
    "d = {'Portugal':clean,\n",
    "     'UofU':survey}\n",
    "df = pd.DataFrame(d, index=freeTimeText)\n",
    "ax = df.plot.bar(title='Free Time Distribution')\n",
    "ax.set_xlabel('Amount of Free Time')\n",
    "ax.set_ylabel('Population Proportion')"
   ]
  },
  {
   "cell_type": "markdown",
   "metadata": {},
   "source": [
    "## Weekday Consumption"
   ]
  },
  {
   "cell_type": "code",
   "execution_count": 7,
   "metadata": {
    "collapsed": false
   },
   "outputs": [
    {
     "data": {
      "text/plain": [
       "<matplotlib.text.Text at 0x24f3ba62908>"
      ]
     },
     "execution_count": 7,
     "metadata": {},
     "output_type": "execute_result"
    },
    {
     "data": {
      "image/png": "[encoded data removed]",
      "text/plain": [
       "<matplotlib.figure.Figure at 0x24f3afa0898>"
      ]
     },
     "metadata": {},
     "output_type": "display_data"
    }
   ],
   "source": [
    "wdCon = list(range(1,6))\n",
    "wdConText = [\"Very Low Amount\", \"Low Amount\", \"Some Amount\", \"High Amount\", \"Very High Amount\"]\n",
    "cleanCounts = normalizedValueCounts(cleanData[\"Dalc\"])\n",
    "surveyCounts = normalizedValueCounts(surveyData[\"Dalc\"])\n",
    "clean = [None for i in range(len(wdCon))]\n",
    "survey = [None for i in range(len(wdCon))]\n",
    "\n",
    "for idx, drink in enumerate(wdCon):\n",
    "    try:\n",
    "        cc = cleanCounts.loc[drink]\n",
    "    except KeyError:\n",
    "        cc = 0\n",
    "    clean[idx] = cc\n",
    "    \n",
    "    try:\n",
    "        sc = surveyCounts.loc[drink]\n",
    "    except KeyError:\n",
    "        sc = 0\n",
    "    survey[idx] = sc\n",
    "    \n",
    "d = {'Portugal':clean,\n",
    "     'UofU':survey}\n",
    "df = pd.DataFrame(d, index=wdConText)\n",
    "ax = df.plot.bar(title='Weekday Drinking Distribution')\n",
    "ax.set_xlabel('Amount of Drinking')\n",
    "ax.set_ylabel('Population Proportion')"
   ]
  },
  {
   "cell_type": "markdown",
   "metadata": {},
   "source": [
    "## Weekend Consumption"
   ]
  },
  {
   "cell_type": "code",
   "execution_count": 8,
   "metadata": {
    "collapsed": false
   },
   "outputs": [
    {
     "data": {
      "text/plain": [
       "<matplotlib.text.Text at 0x24f3b896780>"
      ]
     },
     "execution_count": 8,
     "metadata": {},
     "output_type": "execute_result"
    },
    {
     "data": {
      "image/png": "[encoded data removed]",
      "text/plain": [
       "<matplotlib.figure.Figure at 0x24f3b874da0>"
      ]
     },
     "metadata": {},
     "output_type": "display_data"
    }
   ],
   "source": [
    "weCon = list(range(1,6))\n",
    "weConText = [\"Very Low Amount\", \"Low Amount\", \"Some Amount\", \"High Amount\", \"Very High Amount\"]\n",
    "cleanCounts = normalizedValueCounts(cleanData[\"Walc\"])\n",
    "surveyCounts = normalizedValueCounts(surveyData[\"Walc\"])\n",
    "clean = [None for i in range(len(weCon))]\n",
    "survey = [None for i in range(len(weCon))]\n",
    "\n",
    "for idx, drink in enumerate(weCon):\n",
    "    try:\n",
    "        cc = cleanCounts.loc[drink]\n",
    "    except KeyError:\n",
    "        cc = 0\n",
    "    clean[idx] = cc\n",
    "    \n",
    "    try:\n",
    "        sc = surveyCounts.loc[drink]\n",
    "    except KeyError:\n",
    "        sc = 0\n",
    "    survey[idx] = sc\n",
    "    \n",
    "d = {'Portugal':clean,\n",
    "     'UofU':survey}\n",
    "df = pd.DataFrame(d, index=weConText)\n",
    "ax = df.plot.bar(title='Weekday Drinking Distribution')\n",
    "ax.set_xlabel('Amount of Drinking')\n",
    "ax.set_ylabel('Population Proportion')"
   ]
  },
  {
   "cell_type": "code",
   "execution_count": null,
   "metadata": {
    "collapsed": true
   },
   "outputs": [],
   "source": []
  }
 ],
 "metadata": {
  "anaconda-cloud": {},
  "kernelspec": {
   "display_name": "Python [Root]",
   "language": "python",
   "name": "Python [Root]"
  },
  "language_info": {
   "codemirror_mode": {
    "name": "ipython",
    "version": 3
   },
   "file_extension": ".py",
   "mimetype": "text/x-python",
   "name": "python",
   "nbconvert_exporter": "python",
   "pygments_lexer": "ipython3",
   "version": "3.5.2"
  }
 },
 "nbformat": 4,
 "nbformat_minor": 1
}
