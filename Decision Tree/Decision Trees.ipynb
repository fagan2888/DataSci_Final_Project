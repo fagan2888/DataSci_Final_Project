{
 "cells": [
  {
   "cell_type": "markdown",
   "metadata": {},
   "source": [
    "## Decision Trees\n",
    "\n"
   ]
  },
  {
   "cell_type": "code",
   "execution_count": 1,
   "metadata": {
    "collapsed": false
   },
   "outputs": [],
   "source": [
    "#imports\n",
    "import pandas as pd\n",
    "import numpy as np\n",
    "import statsmodels.formula.api as sm\n",
    "\n",
    "import scipy\n",
    "from scipy.stats import norm\n",
    "import matplotlib.pyplot as plt\n",
    "%matplotlib inline\n",
    "plt.rcParams['figure.figsize'] = (10,6)\n",
    "\n",
    "from sklearn import metrics\n",
    "from sklearn.cross_validation import train_test_split, cross_val_predict, cross_val_score, KFold\n",
    "\n",
    "from sklearn import tree\n",
    "\n",
    "from sklearn.neighbors import NearestNeighbors\n",
    "from sklearn.neighbors import KNeighborsClassifier\n",
    "\n",
    "from sklearn.feature_selection import SelectKBest, SelectPercentile\n",
    "from sklearn.feature_selection import chi2, f_classif\n",
    "\n",
    "from sklearn import svm\n",
    "\n",
    "import seaborn as sns\n",
    "sns.set()\n",
    "\n",
    "import matplotlib.pyplot as plt\n",
    "from matplotlib.colors import ListedColormap\n",
    "%matplotlib inline\n",
    "plt.rcParams['figure.figsize'] = (10, 6)\n",
    "plt.style.use('ggplot')\n",
    "\n",
    "#import data\n",
    "Cleaned_data = pd.read_csv(\"CleanData.csv\")"
   ]
  },
  {
   "cell_type": "code",
   "execution_count": 32,
   "metadata": {
    "collapsed": false
   },
   "outputs": [
    {
     "name": "stdout",
     "output_type": "stream",
     "text": [
      "['G1', 'G2', 'G3', 'absences', 'age', 'freetime', 'goout', 'studytime', 'sex_num', 'guardian_num']\n",
      "['G1', 'G2', 'G3', 'absences', 'failures', 'freetime', 'goout', 'health', 'studytime', 'sex_num']\n"
     ]
    }
   ],
   "source": [
    "#select best predictors\n",
    "predictors = ['Fedu', 'G1', 'G2', 'G3', 'Medu', 'absences', 'age', \n",
    "                'failures', 'famrel', 'freetime', 'goout', 'health', 'math', \n",
    "                'port', 'studytime', 'traveltime', 'school_num', 'sex_num','address_num', \n",
    "                'famsize_num', 'Pstatus_num', 'Mjob_num', 'Fjob_num','reason_num', \n",
    "                'guardian_num', 'schoolsup_num', 'famsup_num', 'activities_num','nursery_num', \n",
    "                'higher_num', 'internet_num', 'romantic_num', 'paid_num']\n",
    "Cleaned_data['Dalc_high'] = Cleaned_data['Dalc'].map({1:0, 2:0, 3:1, 4:1, 5:1})\n",
    "Cleaned_data['Walc_high'] = Cleaned_data['Walc'].map({1:0, 2:0, 3:1, 4:1, 5:1})\n",
    "\n",
    "y_dalc = Cleaned_data['Dalc_high'].as_matrix()\n",
    "y_walc = Cleaned_data['Walc_high'].as_matrix()\n",
    "X = Cleaned_data[predictors].as_matrix()\n",
    "\n",
    "selector = SelectKBest(f_classif, k=10)\n",
    "X_new = selector.fit_transform(X, y_dalc)\n",
    "\n",
    "best_labels_dalc = []\n",
    "for i in range(0,len(selector.get_support())):\n",
    "    if selector.get_support()[i]:\n",
    "        best_labels_dalc.append(predictors[i])\n",
    "print(best_labels_dalc)\n",
    "\n",
    "selector = SelectKBest(f_classif, k=10)\n",
    "X_new = selector.fit_transform(X, y_walc)\n",
    "\n",
    "best_labels_walc = []\n",
    "for i in range(0,len(selector.get_support())):\n",
    "    if selector.get_support()[i]:\n",
    "        best_labels_walc.append(predictors[i])\n",
    "print(best_labels_walc)\n",
    "\n",
    "#SOURCE: https://github.com/datascience-course/2016-datascience-labs/blob/master/lab10-classification/lab-10-classification.ipynb"
   ]
  },
  {
   "cell_type": "code",
   "execution_count": 33,
   "metadata": {
    "collapsed": true
   },
   "outputs": [],
   "source": [
    "#split into test and training data\n",
    "X = Cleaned_data[predictors].as_matrix()\n",
    "\n",
    "XTrain_dalc, XTest_dalc, yTrain_dalc, yTest_dalc = train_test_split(X, y_dalc, \n",
    "                                                    random_state=1, test_size=0.5)\n",
    "\n",
    "XTrain_walc, XTest_walc, yTrain_walc, yTest_walc = train_test_split(X, y_walc, \n",
    "                                                    random_state=1, test_size=0.5)"
   ]
  },
  {
   "cell_type": "code",
   "execution_count": 113,
   "metadata": {
    "collapsed": false
   },
   "outputs": [
    {
     "name": "stdout",
     "output_type": "stream",
     "text": [
      "Accuracy on test data, all predictors=  0.731301939058\n",
      "[[207  10]\n",
      " [ 87  57]]\n"
     ]
    }
   ],
   "source": [
    "#use all predictors in classification\n",
    "decisionTree = tree.DecisionTreeClassifier(max_depth=5, min_samples_split=100)\n",
    "\n",
    "# fit the tree with the traing data\n",
    "decisionTree = decisionTree.fit(XTrain_walc, yTrain_walc)\n",
    "\n",
    "# predict with the training data\n",
    "y_pred_train = decisionTree.predict(XTrain_walc)\n",
    "# measure accuracy\n",
    "#print('Accuracy on training data, all predictors= ', metrics.accuracy_score(y_true = yTrain_walc, y_pred = y_pred_train))\n",
    "\n",
    "# predict with the test data\n",
    "y_pred = decisionTree.predict(XTest_walc)\n",
    "# measure accuracy\n",
    "print('Accuracy on test data, all predictors= ', metrics.accuracy_score(y_true = yTest_walc, y_pred = y_pred))\n",
    "print(metrics.confusion_matrix(y_true = yTest_walc, y_pred = y_pred))\n",
    "\n",
    "#SOURCE:https://github.com/datascience-course/2016-datascience-labs/tree/master/lecture9-decision-trees"
   ]
  },
  {
   "cell_type": "code",
   "execution_count": 168,
   "metadata": {
    "collapsed": false
   },
   "outputs": [
    {
     "name": "stdout",
     "output_type": "stream",
     "text": [
      "Accuracy on test data, all predictors=  0.828254847645\n",
      "[[291  23]\n",
      " [ 39   8]]\n"
     ]
    }
   ],
   "source": [
    "# use all predictors in classification\n",
    "decisionTree = tree.DecisionTreeClassifier(max_depth=10, min_samples_split=2)\n",
    "\n",
    "# fit the tree with the traing data\n",
    "decisionTree = decisionTree.fit(XTrain_dalc, yTrain_dalc)\n",
    "\n",
    "# predict with the training data\n",
    "y_pred_train = decisionTree.predict(XTrain_dalc)\n",
    "# measure accuracy\n",
    "#print('Accuracy on training data, all predictors= ', metrics.accuracy_score(y_true = yTrain_dalc, y_pred = y_pred_train))\n",
    "\n",
    "# predict with the test data\n",
    "y_pred = decisionTree.predict(XTest_dalc)\n",
    "# measure accuracy\n",
    "print('Accuracy on test data, all predictors= ', metrics.accuracy_score(y_true = yTest_dalc, y_pred = y_pred))\n",
    "print(metrics.confusion_matrix(y_true = yTest_dalc, y_pred = y_pred))\n",
    "\n",
    "#SOURCE:https://github.com/datascience-course/2016-datascience-labs/tree/master/lecture9-decision-trees"
   ]
  },
  {
   "cell_type": "code",
   "execution_count": 83,
   "metadata": {
    "collapsed": true
   },
   "outputs": [],
   "source": [
    "#split into test and training data using only best predictors for dalc\n",
    "X_dalc = Cleaned_data[best_labels_dalc].as_matrix()\n",
    "X_walc = Cleaned_data[best_labels_walc].as_matrix()\n",
    "\n",
    "XTrain_dalc_best, XTest_dalc_best, yTrain_dalc_best, yTest_dalc_best = train_test_split(X_dalc, y_dalc, \n",
    "                                                    random_state=1, test_size=0.5)\n",
    "\n",
    "XTrain_walc_best, XTest_walc_best, yTrain_walc_best, yTest_walc_best = train_test_split(X_walc, y_walc, \n",
    "                                                    random_state=1, test_size=0.5)"
   ]
  },
  {
   "cell_type": "code",
   "execution_count": 115,
   "metadata": {
    "collapsed": false
   },
   "outputs": [
    {
     "name": "stdout",
     "output_type": "stream",
     "text": [
      "Accuracy on test data, all predictors=  0.731301939058\n",
      "[[207  10]\n",
      " [ 87  57]]\n"
     ]
    }
   ],
   "source": [
    "#use best predictors in classification\n",
    "decisionTree = tree.DecisionTreeClassifier(max_depth=5, min_samples_split=100)\n",
    "\n",
    "# fit the tree with the traing data\n",
    "decisionTree = decisionTree.fit(XTrain_walc_best, yTrain_walc_best)\n",
    "\n",
    "# predict with the training data\n",
    "y_pred_train = decisionTree.predict(XTrain_walc_best)\n",
    "# measure accuracy\n",
    "#print('Accuracy on training data, all predictors= ', metrics.accuracy_score(y_true = yTrain_walc_best, y_pred = y_pred_train))\n",
    "\n",
    "# predict with the test data\n",
    "y_pred = decisionTree.predict(XTest_walc_best)\n",
    "# measure accuracy\n",
    "print('Accuracy on test data, all predictors= ', metrics.accuracy_score(y_true = yTest_walc_best, y_pred = y_pred))\n",
    "print(metrics.confusion_matrix(y_true = yTest_walc_best, y_pred = y_pred))\n",
    "\n",
    "#SOURCE:https://github.com/datascience-course/2016-datascience-labs/tree/master/lecture9-decision-trees"
   ]
  },
  {
   "cell_type": "code",
   "execution_count": 124,
   "metadata": {
    "collapsed": false
   },
   "outputs": [
    {
     "name": "stdout",
     "output_type": "stream",
     "text": [
      "Accuracy on test data, all predictors=  0.850415512465\n",
      "[[297  17]\n",
      " [ 37  10]]\n"
     ]
    }
   ],
   "source": [
    "#use all predictors in classification\n",
    "decisionTree = tree.DecisionTreeClassifier(max_depth=7, min_samples_split=2)\n",
    "\n",
    "# fit the tree with the traing data\n",
    "decisionTree = decisionTree.fit(XTrain_dalc_best, yTrain_dalc_best)\n",
    "\n",
    "# predict with the training data\n",
    "y_pred_train = decisionTree.predict(XTrain_dalc_best)\n",
    "# measure accuracy\n",
    "#print('Accuracy on training data, all predictors= ', metrics.accuracy_score(y_true = yTrain_dalc_best, y_pred = y_pred_train))\n",
    "\n",
    "# predict with the test data\n",
    "y_pred = decisionTree.predict(XTest_dalc_best)\n",
    "# measure accuracy\n",
    "print('Accuracy on test data, all predictors= ', metrics.accuracy_score(y_true = yTest_dalc_best, y_pred = y_pred))\n",
    "print(metrics.confusion_matrix(y_true = yTest_dalc_best, y_pred = y_pred))\n",
    "\n",
    "#SOURCE:https://github.com/datascience-course/2016-datascience-labs/tree/master/lecture9-decision-trees"
   ]
  }
 ],
 "metadata": {
  "kernelspec": {
   "display_name": "Python [Root]",
   "language": "python",
   "name": "Python [Root]"
  },
  "language_info": {
   "codemirror_mode": {
    "name": "ipython",
    "version": 3
   },
   "file_extension": ".py",
   "mimetype": "text/x-python",
   "name": "python",
   "nbconvert_exporter": "python",
   "pygments_lexer": "ipython3",
   "version": "3.5.2"
  }
 },
 "nbformat": 4,
 "nbformat_minor": 0
}
