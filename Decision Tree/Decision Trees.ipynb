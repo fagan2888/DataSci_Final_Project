{
 "cells": [
  {
   "cell_type": "markdown",
   "metadata": {},
   "source": [
    "## Decision Tree Classification\n",
    "\n",
    "To classify the 1-5 ratings of alcohol consumption, the data must be changed to binary variable.  Thus, rankings of 4 and 5 are given a 1 for high consumption and rankings of 1, 2, and 3 are given a 0 for low consumption.  Testing and training datasets were created to cross validate the model decision tree models."
   ]
  },
  {
   "cell_type": "code",
   "execution_count": 1,
   "metadata": {
    "collapsed": false
   },
   "outputs": [
    {
     "name": "stderr",
     "output_type": "stream",
     "text": [
      "/opt/local/Library/Frameworks/Python.framework/Versions/3.5/lib/python3.5/site-packages/sklearn/cross_validation.py:44: DeprecationWarning: This module was deprecated in version 0.18 in favor of the model_selection module into which all the refactored classes and functions are moved. Also note that the interface of the new CV iterators are different from that of this module. This module will be removed in 0.20.\n",
      "  \"This module will be removed in 0.20.\", DeprecationWarning)\n"
     ]
    }
   ],
   "source": [
    "#imports\n",
    "import pandas as pd\n",
    "import numpy as np\n",
    "import statsmodels.formula.api as sm\n",
    "\n",
    "import scipy\n",
    "from scipy.stats import norm\n",
    "import matplotlib.pyplot as plt\n",
    "%matplotlib inline\n",
    "plt.rcParams['figure.figsize'] = (10,6)\n",
    "\n",
    "from sklearn import metrics\n",
    "from sklearn.cross_validation import train_test_split, cross_val_predict, cross_val_score, KFold\n",
    "\n",
    "from sklearn import tree\n",
    "\n",
    "from sklearn.neighbors import NearestNeighbors\n",
    "from sklearn.neighbors import KNeighborsClassifier\n",
    "\n",
    "from sklearn.feature_selection import SelectKBest, SelectPercentile\n",
    "from sklearn.feature_selection import chi2, f_classif\n",
    "\n",
    "from sklearn import svm\n",
    "\n",
    "import seaborn as sns\n",
    "sns.set()\n",
    "\n",
    "import matplotlib.pyplot as plt\n",
    "from matplotlib.colors import ListedColormap\n",
    "%matplotlib inline\n",
    "plt.rcParams['figure.figsize'] = (10, 6)\n",
    "plt.style.use('ggplot')\n",
    "\n",
    "#import data\n",
    "Cleaned_data = pd.read_csv(\"CleanData.csv\")\n",
    "Survey_data = pd.read_csv(\"SurveyData.csv\")"
   ]
  },
  {
   "cell_type": "code",
<<<<<<< HEAD
   "execution_count": 2,
=======
   "execution_count": 9,
>>>>>>> d48df9d1779024ce57d7cea529a69ced561ba766
   "metadata": {
    "collapsed": false
   },
   "outputs": [],
   "source": [
    "predictors = ['Fedu', 'G1', 'G2', 'G3', 'Medu', 'absences', 'age', \n",
    "                'failures', 'famrel', 'freetime', 'goout', 'health', 'math', \n",
    "                'port', 'studytime', 'traveltime', 'school_num', 'sex_num','address_num', \n",
    "                'famsize_num', 'Pstatus_num', 'Mjob_num', 'Fjob_num','reason_num', \n",
    "                'guardian_num', 'schoolsup_num', 'famsup_num', 'activities_num','nursery_num', \n",
    "                'higher_num', 'internet_num', 'romantic_num', 'paid_num']\n",
    "Cleaned_data['Dalc_high'] = Cleaned_data['Dalc'].map({1:0, 2:0, 3:0, 4:1, 5:1})\n",
    "Cleaned_data['Walc_high'] = Cleaned_data['Walc'].map({1:0, 2:0, 3:0, 4:1, 5:1})\n",
    "\n",
    "y_dalc = Cleaned_data['Dalc_high'].as_matrix()\n",
    "y_walc = Cleaned_data['Walc_high'].as_matrix()\n",
    "X = Cleaned_data[predictors].as_matrix()"
   ]
  },
  {
   "cell_type": "code",
   "execution_count": 3,
   "metadata": {
    "collapsed": true
   },
   "outputs": [],
   "source": [
    "#split into test and training data\n",
    "XTrain_dalc, XTest_dalc, yTrain_dalc, yTest_dalc = train_test_split(X, y_dalc, \n",
    "                                                    random_state=1, test_size=0.5)\n",
    "\n",
    "XTrain_walc, XTest_walc, yTrain_walc, yTest_walc = train_test_split(X, y_walc, \n",
    "                                                    random_state=1, test_size=0.5)"
   ]
  },
  {
   "cell_type": "markdown",
   "metadata": {},
   "source": [
    "## Weekend alcohol classification"
   ]
  },
  {
   "cell_type": "code",
<<<<<<< HEAD
   "execution_count": 4,
=======
   "execution_count": 110,
>>>>>>> d48df9d1779024ce57d7cea529a69ced561ba766
   "metadata": {
    "collapsed": false
   },
   "outputs": [
    {
     "name": "stdout",
     "output_type": "stream",
     "text": [
      "Accuracy, weekend =  0.847645429363\n",
      "[[260  21]\n",
      " [ 34  46]]\n"
     ]
    }
   ],
   "source": [
    "#use all predictors in classification\n",
    "decisionTree = tree.DecisionTreeClassifier(max_depth=2, min_samples_split=100)\n",
    "\n",
    "# fit the tree with the traing data\n",
    "decisionTree = decisionTree.fit(XTrain_walc, yTrain_walc)\n",
    "\n",
    "# predict with the training data\n",
    "y_pred_train = decisionTree.predict(XTrain_walc)\n",
    "# measure accuracy\n",
    "#print('Accuracy on training data, all predictors= ', metrics.accuracy_score(y_true = yTrain_walc, y_pred = y_pred_train))\n",
    "\n",
    "# predict with the test data\n",
    "y_pred = decisionTree.predict(XTest_walc)\n",
    "# measure accuracy\n",
    "print('Accuracy, weekend = ', metrics.accuracy_score(y_true = yTest_walc, y_pred = y_pred))\n",
    "print(metrics.confusion_matrix(y_true = yTest_walc, y_pred = y_pred))"
   ]
  },
  {
   "cell_type": "markdown",
   "metadata": {},
   "source": [
    "The highest accuracy obtained on weekend alcohol consumption data was 84.8%.  Both high and low alcohol consumption was sucessfully predicted by the model.\n",
    "\n",
    "Increasing the max_depth beyond 2 decreases the accuracy to 84.4%.  Changing the value of min_samples_split does not affect the accuracy of the model.  \n",
    "\n",
    "Reducing the number of variables used in the model did not result in any increases in accuracy."
   ]
  },
  {
   "cell_type": "markdown",
   "metadata": {},
   "source": [
    "## Weekday alcohol classification"
   ]
  },
  {
   "cell_type": "code",
<<<<<<< HEAD
   "execution_count": 5,
=======
   "execution_count": 107,
>>>>>>> d48df9d1779024ce57d7cea529a69ced561ba766
   "metadata": {
    "collapsed": false
   },
   "outputs": [
    {
     "name": "stdout",
     "output_type": "stream",
     "text": [
      "Accuracy, weekday =  0.941828254848\n",
      "[[340   0]\n",
      " [ 21   0]]\n"
     ]
    }
   ],
   "source": [
    "# use all predictors in classification\n",
    "decisionTree = tree.DecisionTreeClassifier(max_depth=6, min_samples_split=100)\n",
    "\n",
    "# fit the tree with the traing data\n",
    "decisionTree = decisionTree.fit(XTrain_dalc, yTrain_dalc)\n",
    "\n",
    "# predict with the training data\n",
    "y_pred_train = decisionTree.predict(XTrain_dalc)\n",
    "# measure accuracy\n",
    "#print('Accuracy on training data, all predictors= ', metrics.accuracy_score(y_true = yTrain_dalc, y_pred = y_pred_train))\n",
    "\n",
    "# predict with the test data\n",
    "y_pred = decisionTree.predict(XTest_dalc)\n",
    "# measure accuracy\n",
    "print('Accuracy, weekday = ', metrics.accuracy_score(y_true = yTest_dalc, y_pred = y_pred))\n",
    "print(metrics.confusion_matrix(y_true = yTest_dalc, y_pred = y_pred))"
   ]
  },
  {
   "cell_type": "code",
   "execution_count": 69,
   "metadata": {
    "collapsed": false
   },
   "outputs": [
    {
     "name": "stdout",
     "output_type": "stream",
     "text": [
      "Accuracy, weekday =  0.905817174515\n",
      "[[325  15]\n",
      " [ 19   2]]\n"
     ]
    }
   ],
   "source": [
    "#### use all predictors in classification\n",
    "decisionTree = tree.DecisionTreeClassifier(max_depth=7, min_samples_split=2)\n",
    "\n",
    "# fit the tree with the traing data\n",
    "decisionTree = decisionTree.fit(XTrain_dalc, yTrain_dalc)\n",
    "\n",
    "# predict with the training data\n",
    "y_pred_train = decisionTree.predict(XTrain_dalc)\n",
    "# measure accuracy\n",
    "#print('Accuracy on training data, all predictors= ', metrics.accuracy_score(y_true = yTrain_dalc, y_pred = y_pred_train))\n",
    "\n",
    "# predict with the test data\n",
    "y_pred = decisionTree.predict(XTest_dalc)\n",
    "# measure accuracy\n",
    "print('Accuracy, weekday = ', metrics.accuracy_score(y_true = yTest_dalc, y_pred = y_pred))\n",
    "print(metrics.confusion_matrix(y_true = yTest_dalc, y_pred = y_pred))"
   ]
  },
  {
   "cell_type": "markdown",
   "metadata": {},
   "source": [
    "The highest accuracy obtained on weekday alcohol consumption data was 94.2%.  However, all of the data points were predicted to be low alcohol consumption.  In order to create a model which predicts any data points as high weekday alcohol consumption, a decrease in accuracy must be allowed.  The best accuracy when any data point is predicted as high weekday alcohol consumption is 93.1%.  The best accuracy when at least one data point is correctly predicted as high weekday alcohol consumption is 90.6%.\n",
    "\n",
    "In order to have any data points correctly predicted as high weekday alcohol consumption, the maximum value of min_samples_split is 2.  The max_depth must be larger than 7.\n",
    "\n",
    "To obtain the maximum accuracy, where all data points are predicted as low weekday alcohol consumption, the min_samples_split must be at least 50.\n",
    "\n",
    "Like in the weekend model, reducing the number of variables used in the model did not change the accuracy of the model."
   ]
  },
  {
   "cell_type": "markdown",
   "metadata": {},
   "source": [
    "## Test model on survey data"
   ]
  },
  {
   "cell_type": "code",
   "execution_count": 27,
   "metadata": {
    "collapsed": true
   },
   "outputs": [],
   "source": [
    "survey = ['age', 'school_num', 'sex_num', 'address_num', 'famsize_num', 'reason_num', 'traveltime',\n",
    "            'studytime', 'failures', 'famsup_num', 'internet_num', 'romantic_num', 'freetime', 'health', 'paid_num']\n",
    "Survey_data['Dalc_high'] = Survey_data['Dalc'].map({1:0, 2:0, 3:0, 4:1, 5:1})\n",
    "Survey_data['Walc_high'] = Survey_data['Walc'].map({1:0, 2:0, 3:0, 4:1, 5:1})\n",
    "survey_dalc = Survey_data['Dalc_high'].as_matrix()\n",
    "survey_walc = Survey_data['Walc_high'].as_matrix()\n",
    "X_survey = Survey_data[survey].as_matrix()\n",
    "X = Cleaned_data[survey].as_matrix()"
   ]
  },
  {
   "cell_type": "code",
   "execution_count": 120,
   "metadata": {
    "collapsed": false
   },
   "outputs": [
    {
     "name": "stdout",
     "output_type": "stream",
     "text": [
      "Accuracy, weekend =  0.833333333333\n",
      "[[40  0]\n",
      " [ 8  0]]\n"
     ]
    }
   ],
   "source": [
    "decisionTree = tree.DecisionTreeClassifier(max_depth=2, min_samples_split=10)\n",
    "\n",
    "# fit the tree with the traing data\n",
    "decisionTree = decisionTree.fit(X, y_walc)\n",
    "\n",
    "# predict with the test data\n",
    "y_pred = decisionTree.predict(X_survey)\n",
    "# measure accuracy\n",
    "print('Accuracy, weekend = ', metrics.accuracy_score(y_true = survey_walc, y_pred = y_pred))\n",
    "print(metrics.confusion_matrix(y_true = survey_walc, y_pred = y_pred))"
   ]
  },
  {
   "cell_type": "code",
   "execution_count": 130,
   "metadata": {
    "collapsed": false
   },
   "outputs": [
    {
     "name": "stdout",
     "output_type": "stream",
     "text": [
      "Accuracy, weekday =  0.229166666667\n",
      "[[10 37]\n",
      " [ 0  1]]\n"
     ]
    }
   ],
   "source": [
    "decisionTree = tree.DecisionTreeClassifier(max_depth=3, min_samples_split=10)\n",
    "\n",
    "# fit the tree with the traing data\n",
    "decisionTree = decisionTree.fit(X, y_dalc)\n",
    "\n",
    "# predict with the test data\n",
    "y_pred = decisionTree.predict(X_survey)\n",
    "# measure accuracy\n",
    "print('Accuracy, weekday = ', metrics.accuracy_score(y_true = survey_dalc, y_pred = y_pred))\n",
    "print(metrics.confusion_matrix(y_true = survey_dalc, y_pred = y_pred))"
   ]
  },
  {
   "cell_type": "markdown",
   "metadata": {},
   "source": [
    "When the models discussed previously were retrained, this time using only the variables available in the survey data, the results were noticably worse than in the previous section.  The maximum accuracy in weekend alcohol consumption was 83.3%, but all data points were predicted to have low weekend alcohol consumption.  The maximum accuracy in weekday alcohol consumption was 22.9%.  This suggests that the two data sets were different enough from each other that a model trained on the data obtained online could not be used predict alcohol consumption in a different sample."
   ]
  }
 ],
 "metadata": {
  "anaconda-cloud": {},
  "kernelspec": {
   "display_name": "Python 3",
   "language": "python",
   "name": "python3"
  },
  "language_info": {
   "codemirror_mode": {
    "name": "ipython",
    "version": 3
   },
   "file_extension": ".py",
   "mimetype": "text/x-python",
   "name": "python",
   "nbconvert_exporter": "python",
   "pygments_lexer": "ipython3",
   "version": "3.5.2"
  }
 },
 "nbformat": 4,
 "nbformat_minor": 0
}
