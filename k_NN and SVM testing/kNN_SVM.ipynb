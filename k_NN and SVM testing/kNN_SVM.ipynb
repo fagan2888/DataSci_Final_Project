{
 "cells": [
  {
   "cell_type": "markdown",
   "metadata": {},
   "source": [
    "## k-NN and SVM Classification"
   ]
  },
  {
   "cell_type": "code",
   "execution_count": 1,
   "metadata": {
    "collapsed": false
   },
   "outputs": [
    {
     "name": "stderr",
     "output_type": "stream",
     "text": [
      "/opt/local/Library/Frameworks/Python.framework/Versions/3.5/lib/python3.5/site-packages/sklearn/cross_validation.py:44: DeprecationWarning: This module was deprecated in version 0.18 in favor of the model_selection module into which all the refactored classes and functions are moved. Also note that the interface of the new CV iterators are different from that of this module. This module will be removed in 0.20.\n",
      "  \"This module will be removed in 0.20.\", DeprecationWarning)\n"
     ]
    }
   ],
   "source": [
    "#add to imports:\n",
    "from sklearn import metrics, svm\n",
    "from sklearn.neighbors import KNeighborsClassifier\n",
    "from sklearn.cross_validation import cross_val_predict\n",
    "\n",
    "#already have these imported:\n",
    "import pandas as pd\n",
    "import numpy as np\n",
    "import matplotlib.pyplot as plt\n",
    "%matplotlib inline\n",
    "plt.rcParams['figure.figsize'] = (10,6)"
   ]
  },
  {
   "cell_type": "markdown",
   "metadata": {},
   "source": [
    "## don't need when put in final notebook:"
   ]
  },
  {
   "cell_type": "code",
   "execution_count": 2,
   "metadata": {
    "collapsed": false
   },
   "outputs": [],
   "source": [
    "#Import cleaned data set - don't need when include in final notebook - already there\n",
    "Cleaned_data = pd.read_csv(\"CleanData.csv\")"
   ]
  },
  {
   "cell_type": "code",
   "execution_count": 3,
   "metadata": {
    "collapsed": true
   },
   "outputs": [],
   "source": [
    "# Only use columns with numbers involved - don't need when include in final notebook - already there\n",
    "chosen_columns = ['Dalc', 'Fedu', 'G1', 'G2', 'G3', 'Medu', 'Walc', 'absences', 'age', \n",
    "                  'failures', 'famrel', 'freetime', 'goout', 'health', 'math', \n",
    "                  'port', 'studytime', 'traveltime', 'school_num', 'sex_num','address_num', \n",
    "                  'famsize_num', 'Pstatus_num', 'Mjob_num', 'Fjob_num','reason_num', \n",
    "                  'guardian_num', 'schoolsup_num', 'famsup_num', 'activities_num','nursery_num', \n",
    "                  'higher_num', 'internet_num', 'romantic_num', 'paid_num']\n",
    "\n",
    "Cleaned_data = Cleaned_data[chosen_columns]"
   ]
  },
  {
   "cell_type": "markdown",
   "metadata": {},
   "source": [
    "## Using k-NN Classification on the dataset\n",
    "\n",
    "The data contains alcohol consumption ratings from 1 (very low) to 5 (very high). We will make this a binary variable by considering ratings 1-3 as low consumption and 4-5 as high consumption. This allows us to use classification to try to predict this categorical variable (high or low alcohol consumption) from the other features in the dataset. We will do this for weekend and weekday alcohol consumption separately.\n",
    "\n",
    "To test accuracy of models, the cross_val_predict function was used, splitting the dataset into 2 for training and testing. Distance was used for weighting the contribution of the nearest neighbors."
   ]
  },
  {
   "cell_type": "code",
   "execution_count": 4,
   "metadata": {
    "collapsed": false
   },
   "outputs": [],
   "source": [
    "# define x and y (binary) variables for classification:\n",
    "\n",
    "X = Cleaned_data.drop(['Walc','Dalc'], axis=1).as_matrix()\n",
    "\n",
    "Dalc = Cleaned_data['Dalc'].as_matrix()\n",
    "yD = Dalc>3 #\"high\" alcohol consumption = true\n",
    "Walc = Cleaned_data['Walc'].as_matrix()\n",
    "yW = Walc>3 #\"high\" alcohol consumption = true\n",
    "\n",
    "#For testing a smaller dataset - only increases accuracy of weekend consumption by 2%\n",
    "# fewer = ['age', 'sex_num','goout','studytime']\n",
    "# C = Cleaned_data[fewer]\n",
    "# X = C.as_matrix()"
   ]
  },
  {
   "cell_type": "markdown",
   "metadata": {},
   "source": [
    "## Weekday alcohol consumption"
   ]
  },
  {
   "cell_type": "code",
   "execution_count": 5,
   "metadata": {
    "collapsed": false
   },
   "outputs": [
    {
     "name": "stdout",
     "output_type": "stream",
     "text": [
      "1\n",
      "0.927977839335\n",
      "5\n",
      "0.948753462604\n",
      "10\n",
      "0.948753462604\n",
      "15\n",
      "0.948753462604\n",
      "20\n",
      "0.948753462604\n",
      "25\n",
      "0.948753462604\n",
      "30\n",
      "0.948753462604\n",
      "35\n",
      "0.948753462604\n",
      "40\n",
      "0.948753462604\n",
      "45\n",
      "0.948753462604\n",
      "50\n",
      "0.948753462604\n",
      "100\n",
      "0.948753462604\n"
     ]
    }
   ],
   "source": [
    "#finding the best value of k:\n",
    "n_neighbors = np.array([1, 5, 10, 15, 20, 25, 30, 35, 40, 45, 50, 100])\n",
    "\n",
    "model_accD = np.zeros(n_neighbors.shape)\n",
    "for ind,k in enumerate(n_neighbors):    \n",
    "    k_NN_modelD = KNeighborsClassifier(n_neighbors = k, weights = 'distance')\n",
    "    y_predD = cross_val_predict(k_NN_modelD, X, yD, cv=2)\n",
    "    model_accD[ind] = metrics.accuracy_score(y_true=yD, y_pred=y_predD)\n",
    "    print(k)\n",
    "    print(model_accD[ind])\n",
    "    "
   ]
  },
  {
   "cell_type": "code",
   "execution_count": 6,
   "metadata": {
    "collapsed": false
   },
   "outputs": [
    {
     "name": "stdout",
     "output_type": "stream",
     "text": [
      "[ 0.92797784  0.94875346  0.94875346  0.94875346  0.94875346  0.94875346\n",
      "  0.94875346  0.94875346  0.94875346  0.94875346  0.94875346  0.94875346]\n"
     ]
    },
    {
     "data": {
      "image/png": "[encoded data removed]",
      "text/plain": [
       "<matplotlib.figure.Figure at 0x10eada9e8>"
      ]
     },
     "metadata": {},
     "output_type": "display_data"
    }
   ],
   "source": [
    "print(model_accD)\n",
    "\n",
    "plt.plot(n_neighbors, model_accD, 'ko')\n",
    "plt.xlabel('k')\n",
    "plt.ylabel('accuracy')\n",
    "plt.show()"
   ]
  },
  {
   "cell_type": "markdown",
   "metadata": {},
   "source": [
    "## Weekend alcohol consumption"
   ]
  },
  {
   "cell_type": "code",
   "execution_count": 7,
   "metadata": {
    "collapsed": false
   },
   "outputs": [
    {
     "name": "stdout",
     "output_type": "stream",
     "text": [
      "1\n",
      "0.747922437673\n",
      "5\n",
      "0.765927977839\n",
      "10\n",
      "0.778393351801\n",
      "15\n",
      "0.778393351801\n",
      "20\n",
      "0.792243767313\n",
      "25\n",
      "0.792243767313\n",
      "30\n",
      "0.792243767313\n",
      "35\n",
      "0.788088642659\n",
      "40\n",
      "0.789473684211\n",
      "45\n",
      "0.789473684211\n",
      "50\n",
      "0.789473684211\n",
      "100\n",
      "0.789473684211\n"
     ]
    }
   ],
   "source": [
    "#finding the best value of k:\n",
    "model_accW = np.zeros(n_neighbors.shape)\n",
    "for ind,k in enumerate(n_neighbors):    \n",
    "    k_NN_modelW = KNeighborsClassifier(n_neighbors = k, weights = 'distance')\n",
    "    y_predW = cross_val_predict(k_NN_modelW, X, yW, cv=2)\n",
    "    model_accW[ind] = metrics.accuracy_score(y_true=yW, y_pred=y_predW)\n",
    "    print(k)\n",
    "    print(model_accW[ind])\n",
    "    "
   ]
  },
  {
   "cell_type": "code",
   "execution_count": 8,
   "metadata": {
    "collapsed": false
   },
   "outputs": [
    {
     "name": "stdout",
     "output_type": "stream",
     "text": [
      "[ 0.74792244  0.76592798  0.77839335  0.77839335  0.79224377  0.79224377\n",
      "  0.79224377  0.78808864  0.78947368  0.78947368  0.78947368  0.78947368]\n"
     ]
    },
    {
     "data": {
      "image/png": "[encoded data removed]",
      "text/plain": [
       "<matplotlib.figure.Figure at 0x109263780>"
      ]
     },
     "metadata": {},
     "output_type": "display_data"
    }
   ],
   "source": [
    "print(model_accW)\n",
    "\n",
    "plt.plot(n_neighbors, model_accW, 'ko')\n",
    "plt.xlabel('k')\n",
    "plt.ylabel('accuracy')\n",
    "plt.show()"
   ]
  },
  {
   "cell_type": "markdown",
   "metadata": {},
   "source": [
    "## k-NN Classification Confusion Matrices"
   ]
  },
  {
   "cell_type": "code",
   "execution_count": 9,
   "metadata": {
    "collapsed": false,
    "scrolled": true
   },
   "outputs": [
    {
     "name": "stdout",
     "output_type": "stream",
     "text": [
      "k-NN (1) Weekday Confusion Matrix:\n",
      "[[669  16]\n",
      " [ 36   1]]\n",
      "Accuracy =  0.927977839335\n",
      "\n",
      "k-NN (5) Weekday Confusion Matrix:\n",
      "[[684   1]\n",
      " [ 36   1]]\n",
      "Accuracy =  0.948753462604\n",
      "\n",
      "k-NN (10) Weekday Confusion Matrix:\n",
      "[[685   0]\n",
      " [ 37   0]]\n",
      "Accuracy =  0.948753462604\n",
      "\n",
      "k-NN Weekend Confusion Matrix:\n",
      "[[567   3]\n",
      " [147   5]]\n",
      "Accuracy =  0.792243767313\n"
     ]
    }
   ],
   "source": [
    "print('k-NN (1) Weekday Confusion Matrix:')\n",
    "k_NN_modelD = KNeighborsClassifier(n_neighbors = 1, weights = 'distance')\n",
    "k_NN_modelD.fit(X, yD)\n",
    "\n",
    "y_predD = cross_val_predict(k_NN_modelD, X, yD, cv=2)\n",
    "print(metrics.confusion_matrix(y_true = yD, y_pred = y_predD))\n",
    "print('Accuracy = ', metrics.accuracy_score(y_true = yD, y_pred = y_predD))\n",
    "print('')\n",
    "\n",
    "print('k-NN (5) Weekday Confusion Matrix:')\n",
    "k_NN_modelD = KNeighborsClassifier(n_neighbors = 5, weights = 'distance')\n",
    "k_NN_modelD.fit(X, yD)\n",
    "\n",
    "y_predD = cross_val_predict(k_NN_modelD, X, yD, cv=2)\n",
    "print(metrics.confusion_matrix(y_true = yD, y_pred = y_predD))\n",
    "print('Accuracy = ', metrics.accuracy_score(y_true = yD, y_pred = y_predD))\n",
    "print('')\n",
    "\n",
    "print('k-NN (10) Weekday Confusion Matrix:')\n",
    "k_NN_modelD = KNeighborsClassifier(n_neighbors = 10, weights = 'distance')\n",
    "k_NN_modelD.fit(X, yD)\n",
    "\n",
    "y_predD = cross_val_predict(k_NN_modelD, X, yD, cv=2)\n",
    "print(metrics.confusion_matrix(y_true = yD, y_pred = y_predD))\n",
    "print('Accuracy = ', metrics.accuracy_score(y_true = yD, y_pred = y_predD))\n",
    "print('')\n",
    "\n",
    "print('k-NN Weekend Confusion Matrix:')\n",
    "k_NN_modelW = KNeighborsClassifier(n_neighbors = 25, weights = 'distance')\n",
    "k_NN_modelW.fit(X, yW)\n",
    "\n",
    "y_predW = cross_val_predict(k_NN_modelW, X, yW, cv=2)\n",
    "\n",
    "print(metrics.confusion_matrix(y_true = yW, y_pred = y_predW))\n",
    "print('Accuracy = ', metrics.accuracy_score(y_true = yW, y_pred = y_predW))"
   ]
  },
  {
   "cell_type": "markdown",
   "metadata": {},
   "source": [
    "## Conclusions for k-NN Classification\n",
    "\n",
    "We get higher accuracies when predicting high versus low alcohol consumption on weekdays compared to weekends. The value of k chosen for the k-NN model in the case of weekdays does not have an effect on the accuracy of the model for k's greater than or equal to 5. This ends up being true because the model gets the highest accuracy by always predicting low alcohol consumption (or almost always for lower k values), which is the majority of the data used for training. We can see this in the confusion matrix for a k value of 10 which shows the model correctly predicting 685 cases that were low alcohol consumption, and incorrectly predicting 37 to be low consumption. For a k value of 5, the model correctly predicts one rating as high alcohol consumption and incorrectly predicts one high alcohol consumption that is actually low. These model accuracies for predicting level of alcohol consumption on weekdays is 94.9% for k greater than or equal to 5 (which also happens to be the percentage of low alcohol consumption ratings in the dataset used for training the model for weekdays). A k value of 1 actually results in a decently accurate model with accuracy 92.8%, but it only correctly predicts 1 high alcohol consumption. It correctly predicts 669 low alcohol consumptions, but it also incorrectly predicts 16 cases as high consumption. Therefore, a value of 5 for k Nearest Neighbors appears to be the best choice for a model for weekday alcohol consumption.\n",
    "\n",
    "The best model accuracy for predicting level of alcohol consumption on weekends was 79.2%, achieved for k between (and including) 20 and 30. This is 15.7% less accurate than the model for weekdays, but does more than just assume low alcohol consumption for any input variables. The confusion matrix shows the model correctly predicting high alcohol consumption in 5 cases and correctly predicting low alcohol consumption in 567 cases. This accuracy goes down if we split the data into more groups for cross-validation. Similar results are seen for k between 20 and 30, therefore a value of 25 was picked to represent the best value.\n",
    "\n",
    "If we only consider the variables age, sex, how often students go out, and time spent on studying, the model accuracy for weekend predictions only increases by 2.2% (79.2% to 81.4%), which is still less than the higest accuracy of predicting consumption on weekdays. The accuracy for weekday predictions actually decreases when the predictive variables are limited. Accuracies also go down if we allow the alcohol consumption rating of '3' to be considered 'high' instead of 'low'.\n",
    "\n",
    "It appears that while the weekday model is more accurate, the weekend model does a better job at trying to predict high alcohol consumption where there are cases of it instead of just asssuming everything leads to low consumption.\n",
    "\n",
    "If we include a rating of 3 in the \"high\" category for predictions, the model accuracies go down, but the confusion matrices show the models doing a better job at trying to predict high alcohol consumption instead of assuming everything to be false. However, due to wording of the survey with 4 and 5 being \"high\" and \"very high\", we are going to use the split of 1, 2, and 3 for low alcohol consumption, and 4 and 5 for high alcohol consumption, as was shown in the analyses above."
   ]
  },
  {
   "cell_type": "markdown",
   "metadata": {},
   "source": [
    "## Using SVM Classification on the dataset\n",
    "\n",
    "We will use the same binary variable by considering ratings 1-3 as low consumption and 4-5 as high consumption. This allows us to use classification to try to predict this categorical variable (high or low alcohol consumption) from the other features in the dataset. We will do this for weekend and weekday alcohol consumption separately.\n",
    "\n",
    "To test accuracy of models, the cross_val_predict function was used, splitting the dataset into 2 for training and testing. The rbf kernel was used."
   ]
  },
  {
   "cell_type": "markdown",
   "metadata": {},
   "source": [
    "## Weekday Alcohol Consumption"
   ]
  },
  {
   "cell_type": "code",
   "execution_count": 10,
   "metadata": {
    "collapsed": false
   },
   "outputs": [
    {
     "name": "stdout",
     "output_type": "stream",
     "text": [
      "0.001\n",
      "0.948753462604\n",
      "0.1\n",
      "0.948753462604\n",
      "1.0\n",
      "0.948753462604\n",
      "10.0\n",
      "0.943213296399\n"
     ]
    }
   ],
   "source": [
    "#finding the best value of C\n",
    "\n",
    "Cs = np.array([0.001, .1, 1, 10])\n",
    "\n",
    "model_accDD = np.zeros(Cs.shape)\n",
    "for ind,C in enumerate(Cs):    \n",
    "    svm_modelD = svm.SVC(C=C,kernel='rbf')\n",
    "    y_predDD = cross_val_predict(svm_modelD, X, yD, cv=2)\n",
    "    model_accDD[ind] = metrics.accuracy_score(y_true=yD, y_pred=y_predDD)\n",
    "    print(C)\n",
    "    print(model_accDD[ind])"
   ]
  },
  {
   "cell_type": "markdown",
   "metadata": {},
   "source": [
    "## Weekend Alcohol Consumption"
   ]
  },
  {
   "cell_type": "code",
   "execution_count": 11,
   "metadata": {
    "collapsed": false
   },
   "outputs": [
    {
     "name": "stdout",
     "output_type": "stream",
     "text": [
      "2.1\n",
      "0.807479224377\n",
      "2.2\n",
      "0.808864265928\n",
      "2.3\n",
      "0.807479224377\n"
     ]
    }
   ],
   "source": [
    "#finding the best value of C\n",
    "\n",
    "Cs = np.array([2.1, 2.2, 2.3])\n",
    "\n",
    "model_accWW = np.zeros(Cs.shape)\n",
    "for ind,C in enumerate(Cs):    \n",
    "    svm_modelW = svm.SVC(C=C,kernel='rbf')\n",
    "    y_predWW = cross_val_predict(svm_modelW, X, yW, cv=2)\n",
    "    model_accWW[ind] = metrics.accuracy_score(y_true=yW, y_pred=y_predWW)\n",
    "    print(C)\n",
    "    print(model_accWW[ind])"
   ]
  },
  {
   "cell_type": "markdown",
   "metadata": {},
   "source": [
    "## SVM Classification Confusion Matrices"
   ]
  },
  {
   "cell_type": "code",
   "execution_count": 12,
   "metadata": {
    "collapsed": false
   },
   "outputs": [
    {
     "name": "stdout",
     "output_type": "stream",
     "text": [
      "SVM (C = 1) Weekday Confusion Matrix:\n",
      "[[685   0]\n",
      " [ 37   0]]\n",
      "Accuracy =  0.948753462604\n",
      "\n",
      "SVM (C = 10) Weekday Confusion Matrix:\n",
      "[[681   4]\n",
      " [ 37   0]]\n",
      "Accuracy =  0.943213296399\n",
      "\n",
      "SVM Weekend Confusion Matrix:\n",
      "[[537  33]\n",
      " [105  47]]\n",
      "Accuracy =  0.808864265928\n"
     ]
    }
   ],
   "source": [
    "print('SVM (C = 1) Weekday Confusion Matrix:')\n",
    "svm_modelD = svm.SVC(C=1,kernel='rbf')\n",
    "svm_modelD.fit(X, yD)\n",
    "\n",
    "y_predDD = cross_val_predict(svm_modelD, X, yD, cv=2)\n",
    "print(metrics.confusion_matrix(y_true = yD, y_pred = y_predDD))\n",
    "print('Accuracy = ', metrics.accuracy_score(y_true = yD, y_pred = y_predDD))\n",
    "print('')\n",
    "print('SVM (C = 10) Weekday Confusion Matrix:')\n",
    "svm_modelD = svm.SVC(C=10,kernel='rbf')\n",
    "svm_modelD.fit(X, yD)\n",
    "\n",
    "y_predDD = cross_val_predict(svm_modelD, X, yD, cv=2)\n",
    "print(metrics.confusion_matrix(y_true = yD, y_pred = y_predDD))\n",
    "print('Accuracy = ', metrics.accuracy_score(y_true = yD, y_pred = y_predDD))\n",
    "\n",
    "print('')\n",
    "print('SVM Weekend Confusion Matrix:')\n",
    "svm_modelW = svm.SVC(C=2.2,kernel='rbf')\n",
    "svm_modelW.fit(X, yW)\n",
    "\n",
    "y_predWW = cross_val_predict(svm_modelW, X, yW, cv=2)\n",
    "print(metrics.confusion_matrix(y_true = yW, y_pred = y_predWW))\n",
    "print('Accuracy = ', metrics.accuracy_score(y_true = yW, y_pred = y_predWW))"
   ]
  },
  {
   "cell_type": "markdown",
   "metadata": {},
   "source": [
    "## Conclusions for SVM Classification\n"
   ]
  },
  {
   "cell_type": "markdown",
   "metadata": {},
   "source": [
    "We get higher accuracies when predicting high versus low alcohol consumption on weekdays compared to weekends, same as with k-NN Classification. The value of C chosen for the SVM model in the case of weekdays does not have an effect on the accuracy of the model for C's less than 3.4. This again ends up being true because the model gets the highest accuracy by always predicting low alcohol consumption, which is the majority of the data used for training as explained before. We can see this in the confusion matrix for a C value of 1 which shows the model correctly predicting 685 cases that were low alcohol consumption, and incorrectly predicts 37 to be low consumption. This is the exact result for k-NN classification. However, for a C value of 10, the model tries (and fails) to correctly predict 4 ratings as high alcohol consumption. These model accuracies for predicting level of alcohol consumption on weekdays is 94.9% for C less than 3.4 (which also happens to be the percentage of low alcohol consumption ratings in the dataset used for training the model for weekdays).\n",
    "\n",
    "The best model accuracy for predicting level of alcohol consumption on weekends was 80.9%, achieved for a C value of 2.2. This is only 14% less accurate than the model for weekdays, but does more than just assume low alcohol consumption for any input variables. The confusion matrix shows the model correctly predicting high alcohol consumption in 47 cases and correctly predicting low alcohol consumption in 537 cases. This accuracy goes down if we split the data into more groups for cross-validation.\n",
    "\n",
    "Similarly to the results for k_NN classification, it appears that while the weekday model is more accurate (identical to the k_NN model for high k values), the weekend model does a better job at trying to predict high alcohol consumption where there are cases of it instead of just asssuming everyone has low consumption. k_NN and SVM gave the same models of classification for the weekday, and had similar accuracies of around 80% for the weekends.\n",
    "\n",
    "Similarly to the k-NN Classification, if we include a rating of 3 in the \"high\" category for predictions, the model accuracies go down, but the confusion matrices show the models doing a better job at trying to predict high alcohol consumption instead of assuming everything to be false. However, due to wording of the survey with 4 and 5 being \"high\" and \"very high\", we are going to use the split of 1, 2, and 3 for low alcohol consumption, and 4 and 5 for high alcohol consumption as analyzed above."
   ]
  }
 ],
 "metadata": {
  "anaconda-cloud": {},
  "kernelspec": {
   "display_name": "Python 3",
   "language": "python",
   "name": "python3"
  },
  "language_info": {
   "codemirror_mode": {
    "name": "ipython",
    "version": 3
   },
   "file_extension": ".py",
   "mimetype": "text/x-python",
   "name": "python",
   "nbconvert_exporter": "python",
   "pygments_lexer": "ipython3",
   "version": "3.5.2"
  }
 },
 "nbformat": 4,
 "nbformat_minor": 0
}
